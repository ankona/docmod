{
 "cells": [
  {
   "cell_type": "code",
   "execution_count": 2,
   "id": "2519e7cb-0a6f-4a22-8ef0-a1e69a78e411",
   "metadata": {},
   "outputs": [],
   "source": [
    "import pathlib\n",
    "from docmod import extract_docstrings"
   ]
  },
  {
   "cell_type": "code",
   "execution_count": 3,
   "id": "2492d5a5-5fa5-4acd-91e4-47d6151a93ec",
   "metadata": {},
   "outputs": [
    {
     "name": "stdout",
     "output_type": "stream",
     "text": [
      "ClassDef(identifier name, expr* bases, keyword* keywords, stmt* body, expr* decorator_list, type_param* type_params)\n",
      "\n",
      "__init__\n",
      "\tInitialize the instance.\n",
      "\n",
      "square\n",
      "\tCalculate the square of the objects value.\n",
      "\t\n",
      "\tReturns\n",
      "\t----------\n",
      "\tint\n",
      "\t    The square of the initial value\n"
     ]
    }
   ],
   "source": [
    "p = pathlib.Path(\"/Users/chris/code/docmod/testables.py\")\n",
    "data = extract_docstrings(p)\n",
    "\n",
    "# for k, v in data.methods.items():\n",
    "#     print(k)\n",
    "#     print(f\"\\t{v}\")\n",
    "\n",
    "print(data.cls.__doc__)"
   ]
  },
  {
   "cell_type": "code",
   "execution_count": null,
   "id": "9f3dba80-c1b7-47ef-90e0-bddacca12373",
   "metadata": {},
   "outputs": [],
   "source": []
  }
 ],
 "metadata": {
  "kernelspec": {
   "display_name": "Python 3 (ipykernel)",
   "language": "python",
   "name": "python3"
  },
  "language_info": {
   "codemirror_mode": {
    "name": "ipython",
    "version": 3
   },
   "file_extension": ".py",
   "mimetype": "text/x-python",
   "name": "python",
   "nbconvert_exporter": "python",
   "pygments_lexer": "ipython3",
   "version": "3.12.7"
  }
 },
 "nbformat": 4,
 "nbformat_minor": 5
}
